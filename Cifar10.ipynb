{
  "cells": [
    {
      "cell_type": "code",
      "source": [
        "from google.colab import drive\n",
        "drive.mount('/content/drive')"
      ],
      "metadata": {
        "colab": {
          "base_uri": "https://localhost:8080/"
        },
        "id": "GCQ965wlq2ib",
        "outputId": "3688e408-9427-4096-9435-13a09c70ab6e"
      },
      "id": "GCQ965wlq2ib",
      "execution_count": null,
      "outputs": [
        {
          "output_type": "stream",
          "name": "stdout",
          "text": [
            "Mounted at /content/drive\n"
          ]
        }
      ]
    },
    {
      "cell_type": "code",
      "execution_count": null,
      "id": "b1a06060-d69c-437c-aa17-3ebb0028f800",
      "metadata": {
        "id": "b1a06060-d69c-437c-aa17-3ebb0028f800"
      },
      "outputs": [],
      "source": [
        "import matplotlib.pyplot as plt\n",
        "import tensorflow.keras as K\n",
        "import tensorflow as tf\n",
        "from keras.callbacks import ModelCheckpoint\n",
        "from keras.datasets import cifar10\n",
        "from keras.layers import Dense,Dropout, Flatten, Conv2D, MaxPooling2D, Layer, Lambda, BatchNormalization, GlobalAveragePooling2D"
      ]
    },
    {
      "cell_type": "code",
      "source": [
        "def preprocess_data(X, Y):\n",
        "    \"\"\"\n",
        "    Pre-processes the data for the model\n",
        "\n",
        "        :param X: numpy.ndarray of shape (m, 32, 32, 3)\n",
        "            containing the CIFAR 10 data, where m is the\n",
        "            number of data points\n",
        "\n",
        "        :param Y: numpy.ndarray of shape (m,) containing\n",
        "            the CIFAR 10 labels for X\n",
        "\n",
        "        :returns: X_p, Y_p\n",
        "    \"\"\"\n",
        "    X_p = K.applications.densenet.preprocess_input(X)\n",
        "\n",
        "    # encode to one-hot\n",
        "    Y_p = K.utils.to_categorical(Y, 10)\n",
        "    return X_p, Y_p"
      ],
      "metadata": {
        "id": "7DiJpjWiYtFE"
      },
      "id": "7DiJpjWiYtFE",
      "execution_count": null,
      "outputs": []
    },
    {
      "cell_type": "code",
      "source": [
        "CALLBACKS = []\n",
        "MODEL_PATH = '/content/drive/MyDrive/Cifar/Main/model'\n",
        "optimizer = K.optimizers.Adam()\n",
        "\n",
        "# load cifar 10\n",
        "(x_train, y_train), (x_test, y_test) = K.datasets.cifar10.load_data()"
      ],
      "metadata": {
        "colab": {
          "base_uri": "https://localhost:8080/"
        },
        "id": "LnQznyITYtHz",
        "outputId": "346c6ce1-9d3f-4877-b8e6-a88fe3ee1af6"
      },
      "id": "LnQznyITYtHz",
      "execution_count": null,
      "outputs": [
        {
          "output_type": "stream",
          "name": "stdout",
          "text": [
            "Downloading data from https://www.cs.toronto.edu/~kriz/cifar-10-python.tar.gz\n",
            "170498071/170498071 [==============================] - 6s 0us/step\n"
          ]
        }
      ]
    },
    {
      "cell_type": "code",
      "source": [
        "plt.figure(figsize = (10,7))\n",
        "plt.subplot(221)\n",
        "\n",
        "# equivalent but more general\n",
        "ax1 = plt.subplot(2, 2, 1)\n",
        "ax1.imshow(x_train[0])\n",
        "ax1.axis('off')\n",
        "\n",
        "# add a subplot with no frame\n",
        "ax2 = plt.subplot(222, frameon=False)\n",
        "ax2.imshow(x_train[1])\n",
        "ax2.axis('off')\n",
        "\n",
        "# add a polar subplot\n",
        "ax3 = plt.subplot(223)\n",
        "ax3.imshow(x_train[2])\n",
        "ax3.axis('off')\n",
        "\n",
        "# add a red subplot that shares the x-axis with ax1\n",
        "ax4 = plt.subplot(224)\n",
        "ax4.imshow(x_train[3])\n",
        "ax4.axis('off')\n",
        "plt.show()"
      ],
      "metadata": {
        "colab": {
          "base_uri": "https://localhost:8080/",
          "height": 576
        },
        "id": "0Xz9pT4XYtKs",
        "outputId": "5ed26dfe-6ec1-4255-b485-f0f0446525b2"
      },
      "id": "0Xz9pT4XYtKs",
      "execution_count": null,
      "outputs": [
        {
          "output_type": "display_data",
          "data": {
            "text/plain": [
              "<Figure size 1000x700 with 4 Axes>"
            ],
            "image/png": "[encoded data removed]"
          },
          "metadata": {}
        }
      ]
    },
    {
      "cell_type": "code",
      "source": [
        "x_train, y_train = preprocess_data(x_train, y_train)\n",
        "x_test, y_test = preprocess_data(x_test, y_test)\n",
        "\n",
        "# input tensor\n",
        "inputs = K.Input(shape=(32, 32, 3))\n",
        "\n",
        "# upscale layer\n",
        "upscale = K.layers.Lambda(lambda x: tf.image.resize_with_pad(x, 160, 160,\n",
        "                                                             method=tf.image.ResizeMethod.BILINEAR))(inputs)"
      ],
      "metadata": {
        "id": "z0095LlfYtNP"
      },
      "id": "z0095LlfYtNP",
      "execution_count": null,
      "outputs": []
    },
    {
      "cell_type": "code",
      "source": [
        "base_model = K.applications.DenseNet121(include_top=False,\n",
        "                                        weights='imagenet',\n",
        "                                        input_tensor=upscale,\n",
        "                                        input_shape=(160,160,3))"
      ],
      "metadata": {
        "colab": {
          "base_uri": "https://localhost:8080/"
        },
        "id": "9yLqV6B-ZWJC",
        "outputId": "afa5b3af-feaa-4b19-b989-6aed534130c3"
      },
      "id": "9yLqV6B-ZWJC",
      "execution_count": null,
      "outputs": [
        {
          "output_type": "stream",
          "name": "stdout",
          "text": [
            "Downloading data from https://storage.googleapis.com/tensorflow/keras-applications/densenet/densenet121_weights_tf_dim_ordering_tf_kernels_notop.h5\n",
            "29084464/29084464 [==============================] - 1s 0us/step\n"
          ]
        }
      ]
    },
    {
      "cell_type": "code",
      "source": [
        "# add top layers\n",
        "out = base_model.output\n",
        "out = Flatten()(out)\n",
        "out = BatchNormalization()(out)\n",
        "out = Dense(124, activation='relu')(out)\n",
        "out = Dropout(0.7)(out)\n",
        "out = BatchNormalization()(out)\n",
        "out = Dense(64, activation='relu')(out)\n",
        "out = Dropout(0.4)(out)\n",
        "out = Dense(10, activation='softmax')(out)"
      ],
      "metadata": {
        "id": "UMUh-xSJZzdz"
      },
      "id": "UMUh-xSJZzdz",
      "execution_count": null,
      "outputs": []
    },
    {
      "cell_type": "code",
      "source": [
        "CALLBACKS.append(K.callbacks.ModelCheckpoint(filepath=MODEL_PATH,\n",
        "                                              monitor='val_accuracy',\n",
        "                                              save_best_only=True))\n",
        "\n",
        "CALLBACKS.append(K.callbacks.EarlyStopping(monitor='val_accuracy',\n",
        "                                            verbose=1,\n",
        "                                            patience=5))\n",
        "CALLBACKS.append(K.callbacks.ReduceLROnPlateau(monitor='val_loss', factor=0.1,\n",
        "                                         patience=2, verbose=1))\n",
        "\n",
        "# CALLBACKS.append(K.callbacks.TensorBoard(log_dir='logs'))\n",
        "# model compile\n",
        "model = K.models.Model(inputs=inputs, outputs=out)\n",
        "\n",
        "model.compile(optimizer=optimizer,\n",
        "              loss='categorical_crossentropy',\n",
        "              metrics=['accuracy'])"
      ],
      "metadata": {
        "id": "EA1GpMUWZzgb"
      },
      "id": "EA1GpMUWZzgb",
      "execution_count": null,
      "outputs": []
    },
    {
      "cell_type": "code",
      "source": [
        "history = model.fit(x=x_train,\n",
        "          y=y_train,\n",
        "          batch_size=128,\n",
        "          epochs=20,\n",
        "          callbacks=CALLBACKS,\n",
        "          validation_data=(x_test, y_test))"
      ],
      "metadata": {
        "colab": {
          "base_uri": "https://localhost:8080/"
        },
        "id": "q2l-5t_DaLcS",
        "outputId": "d4a3c71a-4cfe-4b0e-8eb6-b85ed19b8316"
      },
      "id": "q2l-5t_DaLcS",
      "execution_count": null,
      "outputs": [
        {
          "output_type": "stream",
          "name": "stdout",
          "text": [
            "Epoch 1/20\n",
            "391/391 [==============================] - 436s 910ms/step - loss: 0.9839 - accuracy: 0.6883 - val_loss: 0.7481 - val_accuracy: 0.7813 - lr: 0.0010\n",
            "Epoch 2/20\n",
            "391/391 [==============================] - 343s 878ms/step - loss: 0.5103 - accuracy: 0.8536 - val_loss: 0.5210 - val_accuracy: 0.8397 - lr: 0.0010\n",
            "Epoch 3/20\n",
            "391/391 [==============================] - 338s 865ms/step - loss: 0.4034 - accuracy: 0.8850 - val_loss: 0.4723 - val_accuracy: 0.8608 - lr: 0.0010\n",
            "Epoch 4/20\n",
            "391/391 [==============================] - 345s 881ms/step - loss: 0.3262 - accuracy: 0.9067 - val_loss: 0.3708 - val_accuracy: 0.8874 - lr: 0.0010\n",
            "Epoch 5/20\n",
            "391/391 [==============================] - 286s 732ms/step - loss: 0.2897 - accuracy: 0.9173 - val_loss: 0.4053 - val_accuracy: 0.8804 - lr: 0.0010\n",
            "Epoch 6/20\n",
            "391/391 [==============================] - ETA: 0s - loss: 0.2562 - accuracy: 0.9266\n",
            "Epoch 6: ReduceLROnPlateau reducing learning rate to 0.00010000000474974513.\n",
            "391/391 [==============================] - 285s 730ms/step - loss: 0.2562 - accuracy: 0.9266 - val_loss: 0.5710 - val_accuracy: 0.8516 - lr: 0.0010\n",
            "Epoch 7/20\n",
            "391/391 [==============================] - 343s 877ms/step - loss: 0.1421 - accuracy: 0.9612 - val_loss: 0.1616 - val_accuracy: 0.9500 - lr: 1.0000e-04\n",
            "Epoch 8/20\n",
            "391/391 [==============================] - 343s 877ms/step - loss: 0.0870 - accuracy: 0.9787 - val_loss: 0.1589 - val_accuracy: 0.9536 - lr: 1.0000e-04\n",
            "Epoch 9/20\n",
            "391/391 [==============================] - 343s 878ms/step - loss: 0.0657 - accuracy: 0.9837 - val_loss: 0.1606 - val_accuracy: 0.9561 - lr: 1.0000e-04\n",
            "Epoch 10/20\n",
            "391/391 [==============================] - ETA: 0s - loss: 0.0511 - accuracy: 0.9874\n",
            "Epoch 10: ReduceLROnPlateau reducing learning rate to 1.0000000474974514e-05.\n",
            "391/391 [==============================] - 287s 733ms/step - loss: 0.0511 - accuracy: 0.9874 - val_loss: 0.1714 - val_accuracy: 0.9552 - lr: 1.0000e-04\n",
            "Epoch 11/20\n",
            "391/391 [==============================] - 292s 748ms/step - loss: 0.0390 - accuracy: 0.9915 - val_loss: 0.1707 - val_accuracy: 0.9556 - lr: 1.0000e-05\n",
            "Epoch 12/20\n",
            "391/391 [==============================] - ETA: 0s - loss: 0.0355 - accuracy: 0.9924\n",
            "Epoch 12: ReduceLROnPlateau reducing learning rate to 1.0000000656873453e-06.\n",
            "391/391 [==============================] - 292s 747ms/step - loss: 0.0355 - accuracy: 0.9924 - val_loss: 0.1700 - val_accuracy: 0.9561 - lr: 1.0000e-05\n",
            "Epoch 13/20\n",
            "391/391 [==============================] - 292s 748ms/step - loss: 0.0338 - accuracy: 0.9928 - val_loss: 0.1700 - val_accuracy: 0.9560 - lr: 1.0000e-06\n",
            "Epoch 14/20\n",
            "391/391 [==============================] - ETA: 0s - loss: 0.0338 - accuracy: 0.9926\n",
            "Epoch 14: ReduceLROnPlateau reducing learning rate to 1.0000001111620805e-07.\n",
            "391/391 [==============================] - 292s 748ms/step - loss: 0.0338 - accuracy: 0.9926 - val_loss: 0.1702 - val_accuracy: 0.9561 - lr: 1.0000e-06\n",
            "Epoch 14: early stopping\n"
          ]
        }
      ]
    },
    {
      "cell_type": "code",
      "source": [
        "model.evaluate(x_test, y_test, batch_size=128, verbose=1)"
      ],
      "metadata": {
        "colab": {
          "base_uri": "https://localhost:8080/"
        },
        "id": "XqnQE6qDaLfr",
        "outputId": "34147db2-139a-4f29-98f2-b5db99f9f41b"
      },
      "id": "XqnQE6qDaLfr",
      "execution_count": null,
      "outputs": [
        {
          "output_type": "stream",
          "name": "stdout",
          "text": [
            "79/79 [==============================] - 14s 180ms/step - loss: 0.1702 - accuracy: 0.9561\n"
          ]
        },
        {
          "output_type": "execute_result",
          "data": {
            "text/plain": [
              "[0.1702033281326294, 0.9560999870300293]"
            ]
          },
          "metadata": {},
          "execution_count": 11
        }
      ]
    },
    {
      "cell_type": "code",
      "source": [
        "model.save('/content/drive/MyDrive/Cifar/Main/main_Cifar10.h5')"
      ],
      "metadata": {
        "colab": {
          "base_uri": "https://localhost:8080/"
        },
        "id": "AhHtwG0_Zzi7",
        "outputId": "5cdfd9cd-7e70-4cb6-c392-0905f744cc9e"
      },
      "id": "AhHtwG0_Zzi7",
      "execution_count": null,
      "outputs": [
        {
          "output_type": "stream",
          "name": "stderr",
          "text": [
            "/usr/local/lib/python3.10/dist-packages/keras/src/engine/training.py:3079: UserWarning: You are saving your model as an HDF5 file via `model.save()`. This file format is considered legacy. We recommend using instead the native Keras format, e.g. `model.save('my_model.keras')`.\n",
            "  saving_api.save_model(\n"
          ]
        }
      ]
    },
    {
      "cell_type": "code",
      "source": [],
      "metadata": {
        "id": "BD9H6eMHZWL6"
      },
      "id": "BD9H6eMHZWL6",
      "execution_count": null,
      "outputs": []
    },
    {
      "cell_type": "code",
      "source": [
        "import numpy as np\n",
        "from tensorflow.keras.models import load_model\n",
        "from tensorflow.keras.preprocessing.image import load_img, img_to_array\n",
        "from tensorflow.keras.applications.densenet import preprocess_input\n",
        "from tensorflow.keras.applications.densenet import decode_predictions"
      ],
      "metadata": {
        "id": "_IOm6bZqtSfF"
      },
      "id": "_IOm6bZqtSfF",
      "execution_count": null,
      "outputs": []
    },
    {
      "cell_type": "code",
      "source": [
        "# Load the pre-trained VGG16 model\n",
        "model_path = '/content/drive/MyDrive/Cifar/Main/main_Cifar10.h5'\n",
        "model = load_model(model_path)"
      ],
      "metadata": {
        "id": "OAKOPbwKtSiA"
      },
      "id": "OAKOPbwKtSiA",
      "execution_count": null,
      "outputs": []
    },
    {
      "cell_type": "code",
      "source": [
        "from tensorflow.keras.preprocessing import image\n",
        "import matplotlib.pyplot as plt"
      ],
      "metadata": {
        "id": "xxFS-r1htdYA"
      },
      "id": "xxFS-r1htdYA",
      "execution_count": null,
      "outputs": []
    },
    {
      "cell_type": "code",
      "source": [
        "def custom_cifar10_prediction(image_path):\n",
        "    try:\n",
        "        # Load and preprocess the user-provided image\n",
        "        image = load_img(image_path, target_size=(32, 32))\n",
        "        image = img_to_array(image)\n",
        "        image = np.expand_dims(image, axis=0)\n",
        "        image = preprocess_input(image)\n",
        "\n",
        "        # Make predictions using the model\n",
        "        predictions = model.predict(image)\n",
        "\n",
        "        # Convert the predicted class index to class name\n",
        "        class_index = np.argmax(predictions)\n",
        "        class_name = cifar10_classes[class_index]  # You need to define cifar10_classes\n",
        "\n",
        "        # Display the image\n",
        "        plt.imshow(image[0] / 2 + 0.5)  # De-normalize the image\n",
        "        plt.axis('off')\n",
        "        plt.title(f\"Predicted class: {class_name}\")\n",
        "        plt.show()\n",
        "\n",
        "    except Exception as e:\n",
        "        print(f\"An error occurred: {str(e)}\")"
      ],
      "metadata": {
        "id": "pU__mgrQtdac"
      },
      "id": "pU__mgrQtdac",
      "execution_count": null,
      "outputs": []
    },
    {
      "cell_type": "code",
      "source": [
        "# Define the CIFAR-10 class names (you can define this based on your model)\n",
        "cifar10_classes = [\n",
        "    'Airplane',\n",
        "    'Automobile',\n",
        "    'Bird',\n",
        "    'Cat',\n",
        "    'Deer',\n",
        "    'Dog',\n",
        "    'Frog',\n",
        "    'Horse',\n",
        "    'Ship',\n",
        "    'Truck'\n",
        "]"
      ],
      "metadata": {
        "id": "GZPUwIwotdge"
      },
      "id": "GZPUwIwotdge",
      "execution_count": null,
      "outputs": []
    },
    {
      "cell_type": "code",
      "source": [
        "image_path = ['/content/drive/MyDrive/Cifar/dr1.jpg', '/content/drive/MyDrive/Cifar/dg.jpeg']\n",
        "\n",
        "for i in image_path:\n",
        "  # Call the custom prediction function\n",
        "  custom_cifar10_prediction(i)"
      ],
      "metadata": {
        "colab": {
          "base_uri": "https://localhost:8080/",
          "height": 908
        },
        "id": "zF4aiWwWtmrd",
        "outputId": "11dce4d1-b971-4d44-886e-a91e29a199d9"
      },
      "id": "zF4aiWwWtmrd",
      "execution_count": null,
      "outputs": [
        {
          "output_type": "stream",
          "name": "stdout",
          "text": [
            "1/1 [==============================] - 0s 50ms/step\n"
          ]
        },
        {
          "output_type": "stream",
          "name": "stderr",
          "text": [
            "WARNING:matplotlib.image:Clipping input data to the valid range for imshow with RGB data ([0..1] for floats or [0..255] for integers).\n"
          ]
        },
        {
          "output_type": "display_data",
          "data": {
            "text/plain": [
              "<Figure size 640x480 with 1 Axes>"
            ],
            "image/png": "[encoded data removed]"
          },
          "metadata": {}
        },
        {
          "output_type": "stream",
          "name": "stdout",
          "text": [
            "1/1 [==============================] - 0s 123ms/step\n"
          ]
        },
        {
          "output_type": "stream",
          "name": "stderr",
          "text": [
            "WARNING:matplotlib.image:Clipping input data to the valid range for imshow with RGB data ([0..1] for floats or [0..255] for integers).\n"
          ]
        },
        {
          "output_type": "display_data",
          "data": {
            "text/plain": [
              "<Figure size 640x480 with 1 Axes>"
            ],
            "image/png": "[encoded data removed]"
          },
          "metadata": {}
        }
      ]
    },
    {
      "cell_type": "code",
      "source": [],
      "metadata": {
        "id": "9zxZ4QlOuVvA"
      },
      "id": "9zxZ4QlOuVvA",
      "execution_count": null,
      "outputs": []
    }
  ],
  "metadata": {
    "kernelspec": {
      "display_name": "Python 3",
      "name": "python3"
    },
    "language_info": {
      "codemirror_mode": {
        "name": "ipython",
        "version": 3
      },
      "file_extension": ".py",
      "mimetype": "text/x-python",
      "name": "python",
      "nbconvert_exporter": "python",
      "pygments_lexer": "ipython3",
      "version": "3.10.4"
    },
    "colab": {
      "provenance": [],
      "gpuType": "T4"
    },
    "accelerator": "GPU"
  },
  "nbformat": 4,
  "nbformat_minor": 5
}